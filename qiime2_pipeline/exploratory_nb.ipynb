{
 "cells": [
  {
   "cell_type": "code",
   "execution_count": 3,
   "id": "b1beabe6",
   "metadata": {},
   "outputs": [
    {
     "name": "stdout",
     "output_type": "stream",
     "text": [
      "/home/patwuch/miniforge3/envs/qiime2-amplicon-2025.7/lib/python3.10/site-packages/emperor/__init__.py:9: UserWarning: pkg_resources is deprecated as an API. See https://setuptools.pypa.io/en/latest/pkg_resources.html. The pkg_resources package is slated for removal as early as 2025-11-30. Refrain from using this package or pin to Setuptools<81.\n",
      "  import pkg_resources\n",
      "\u001b[32mImported manifest.tsv as PairedEndFastqManifestPhred33V2 to demux.qza\u001b[0m\n",
      "\u001b[?25h\u001b[0m"
     ]
    }
   ],
   "source": [
    "!qiime tools import \\\n",
    "--type 'SampleData[PairedEndSequencesWithQuality]' \\\n",
    "--input-format PairedEndFastqManifestPhred33V2 \\\n",
    "--input-path manifest.tsv \\\n",
    "--output-path demux.qza "
   ]
  },
  {
   "cell_type": "code",
   "execution_count": 4,
   "id": "b580c178",
   "metadata": {},
   "outputs": [
    {
     "name": "stdout",
     "output_type": "stream",
     "text": [
      "/home/patwuch/miniforge3/envs/qiime2-amplicon-2025.7/lib/python3.10/site-packages/emperor/__init__.py:9: UserWarning: pkg_resources is deprecated as an API. See https://setuptools.pypa.io/en/latest/pkg_resources.html. The pkg_resources package is slated for removal as early as 2025-11-30. Refrain from using this package or pin to Setuptools<81.\n",
      "  import pkg_resources\n",
      "\u001b[32mSaved Visualization to: demux.qzv\u001b[0m\n",
      "\u001b[?25h\u001b[0m"
     ]
    }
   ],
   "source": [
    "!qiime demux summarize \\\n",
    "--i-data demux.qza  \\\n",
    "--o-visualization demux.qzv"
   ]
  },
  {
   "cell_type": "code",
   "execution_count": 5,
   "id": "86b0679e",
   "metadata": {},
   "outputs": [
    {
     "name": "stdout",
     "output_type": "stream",
     "text": [
      "/home/patwuch/miniforge3/envs/qiime2-amplicon-2025.7/lib/python3.10/site-packages/emperor/__init__.py:9: UserWarning: pkg_resources is deprecated as an API. See https://setuptools.pypa.io/en/latest/pkg_resources.html. The pkg_resources package is slated for removal as early as 2025-11-30. Refrain from using this package or pin to Setuptools<81.\n",
      "  import pkg_resources\n",
      "\u001b[32mSaved FeatureTable[Frequency] to: table-dada2.qza\u001b[0m\n",
      "\u001b[32mSaved FeatureData[Sequence] to: rep-seqs-dada2.qza\u001b[0m\n",
      "\u001b[32mSaved SampleData[DADA2Stats] to: stats-dada2.qza\u001b[0m\n",
      "\u001b[?25h\u001b[0m"
     ]
    }
   ],
   "source": [
    "!qiime dada2 denoise-paired \\\n",
    "  --i-demultiplexed-seqs demux.qza \\\n",
    "  --p-trim-left-f 10 \\\n",
    "  --p-trim-left-r 10 \\\n",
    "  --p-trunc-len-f 240 \\\n",
    "  --p-trunc-len-r 240 \\\n",
    "  --o-table table-dada2.qza \\\n",
    "  --o-representative-sequences rep-seqs-dada2.qza \\\n",
    "  --o-denoising-stats stats-dada2.qza \\\n",
    "  --p-n-threads 0"
   ]
  },
  {
   "cell_type": "code",
   "execution_count": 7,
   "id": "0248a959",
   "metadata": {},
   "outputs": [
    {
     "name": "stdout",
     "output_type": "stream",
     "text": [
      "/home/patwuch/miniforge3/envs/qiime2-amplicon-2025.7/lib/python3.10/site-packages/emperor/__init__.py:9: UserWarning: pkg_resources is deprecated as an API. See https://setuptools.pypa.io/en/latest/pkg_resources.html. The pkg_resources package is slated for removal as early as 2025-11-30. Refrain from using this package or pin to Setuptools<81.\n",
      "  import pkg_resources\n",
      "\u001b[32mSaved Visualization to: table-dada2.qzv\u001b[0m\n",
      "\u001b[?25h\u001b[0m/home/patwuch/miniforge3/envs/qiime2-amplicon-2025.7/lib/python3.10/site-packages/emperor/__init__.py:9: UserWarning: pkg_resources is deprecated as an API. See https://setuptools.pypa.io/en/latest/pkg_resources.html. The pkg_resources package is slated for removal as early as 2025-11-30. Refrain from using this package or pin to Setuptools<81.\n",
      "  import pkg_resources\n",
      "\u001b[32mSaved Visualization to: rep-seqs-dada2.qzv\u001b[0m\n",
      "\u001b[?25h\u001b[0m/home/patwuch/miniforge3/envs/qiime2-amplicon-2025.7/lib/python3.10/site-packages/emperor/__init__.py:9: UserWarning: pkg_resources is deprecated as an API. See https://setuptools.pypa.io/en/latest/pkg_resources.html. The pkg_resources package is slated for removal as early as 2025-11-30. Refrain from using this package or pin to Setuptools<81.\n",
      "  import pkg_resources\n",
      "\u001b[32mSaved Visualization to: stats-dada2.qzv\u001b[0m\n",
      "\u001b[?25h\u001b[0m"
     ]
    }
   ],
   "source": [
    "!qiime feature-table summarize \\\n",
    "  --i-table table-dada2.qza \\\n",
    "  --o-visualization table-dada2.qzv \\\n",
    "  --m-sample-metadata-file sample-metadata-deblur.tsv\n",
    "\n",
    "!qiime feature-table tabulate-seqs \\\n",
    "  --i-data rep-seqs-dada2.qza \\\n",
    "  --o-visualization rep-seqs-dada2.qzv\n",
    "\n",
    "!qiime metadata tabulate \\\n",
    "  --m-input-file stats-dada2.qza \\\n",
    "  --o-visualization stats-dada2.qzv"
   ]
  },
  {
   "cell_type": "code",
   "execution_count": 11,
   "id": "410cc34b",
   "metadata": {},
   "outputs": [
    {
     "name": "stdout",
     "output_type": "stream",
     "text": [
      "/home/patwuch/miniforge3/envs/qiime2-amplicon-2025.7/lib/python3.10/site-packages/emperor/__init__.py:9: UserWarning: pkg_resources is deprecated as an API. See https://setuptools.pypa.io/en/latest/pkg_resources.html. The pkg_resources package is slated for removal as early as 2025-11-30. Refrain from using this package or pin to Setuptools<81.\n",
      "  import pkg_resources\n",
      "\u001b[32mSaved FeatureData[Taxonomy] to: taxonomy.qza\u001b[0m\n",
      "\u001b[?25h\u001b[0m"
     ]
    }
   ],
   "source": [
    "!qiime feature-classifier classify-sklearn \\\n",
    "  --i-classifier /home/patwuch/projects/microbiome/reference/silva-138-99-nb-classifier.qza \\\n",
    "  --i-reads rep-seqs-dada2.qza \\\n",
    "  --o-classification taxonomy.qza"
   ]
  },
  {
   "cell_type": "code",
   "execution_count": 12,
   "id": "ba38d151",
   "metadata": {},
   "outputs": [
    {
     "name": "stdout",
     "output_type": "stream",
     "text": [
      "/home/patwuch/miniforge3/envs/qiime2-amplicon-2025.7/lib/python3.10/site-packages/emperor/__init__.py:9: UserWarning: pkg_resources is deprecated as an API. See https://setuptools.pypa.io/en/latest/pkg_resources.html. The pkg_resources package is slated for removal as early as 2025-11-30. Refrain from using this package or pin to Setuptools<81.\n",
      "  import pkg_resources\n",
      "\u001b[32mSaved Visualization to: taxonomy.qzv\u001b[0m\n",
      "\u001b[?25h\u001b[0m"
     ]
    }
   ],
   "source": [
    "!qiime metadata tabulate \\\n",
    "  --m-input-file taxonomy.qza \\\n",
    "  --o-visualization taxonomy.qzv"
   ]
  },
  {
   "cell_type": "code",
   "execution_count": 13,
   "id": "e44b1c7e",
   "metadata": {},
   "outputs": [
    {
     "name": "stdout",
     "output_type": "stream",
     "text": [
      "/home/patwuch/miniforge3/envs/qiime2-amplicon-2025.7/lib/python3.10/site-packages/emperor/__init__.py:9: UserWarning: pkg_resources is deprecated as an API. See https://setuptools.pypa.io/en/latest/pkg_resources.html. The pkg_resources package is slated for removal as early as 2025-11-30. Refrain from using this package or pin to Setuptools<81.\n",
      "  import pkg_resources\n",
      "\u001b[32mSaved Visualization to: taxa-bar-plots.qzv\u001b[0m\n",
      "\u001b[?25h\u001b[0m"
     ]
    }
   ],
   "source": [
    "!qiime taxa barplot \\\n",
    "  --i-table table-dada2.qza \\\n",
    "  --i-taxonomy taxonomy.qza \\\n",
    "  --m-metadata-file sample-metadata-deblur.tsv \\\n",
    "  --o-visualization taxa-bar-plots.qzv"
   ]
  },
  {
   "cell_type": "code",
   "execution_count": 14,
   "id": "98c417ad",
   "metadata": {},
   "outputs": [
    {
     "name": "stdout",
     "output_type": "stream",
     "text": [
      "/home/patwuch/miniforge3/envs/qiime2-amplicon-2025.7/lib/python3.10/site-packages/emperor/__init__.py:9: UserWarning: pkg_resources is deprecated as an API. See https://setuptools.pypa.io/en/latest/pkg_resources.html. The pkg_resources package is slated for removal as early as 2025-11-30. Refrain from using this package or pin to Setuptools<81.\n",
      "  import pkg_resources\n",
      "\u001b[32mSaved Visualization to: krona.qzv\u001b[0m\n",
      "\u001b[?25h\u001b[0m"
     ]
    }
   ],
   "source": [
    "!qiime krona collapse-and-plot \\\n",
    "  --i-table table-dada2.qza \\\n",
    "  --i-taxonomy taxonomy.qza \\\n",
    "  --o-krona-plot krona.qzv"
   ]
  },
  {
   "cell_type": "code",
   "execution_count": 15,
   "id": "d177b7c9",
   "metadata": {},
   "outputs": [
    {
     "name": "stdout",
     "output_type": "stream",
     "text": [
      "/home/patwuch/miniforge3/envs/qiime2-amplicon-2025.7/lib/python3.10/site-packages/emperor/__init__.py:9: UserWarning: pkg_resources is deprecated as an API. See https://setuptools.pypa.io/en/latest/pkg_resources.html. The pkg_resources package is slated for removal as early as 2025-11-30. Refrain from using this package or pin to Setuptools<81.\n",
      "  import pkg_resources\n",
      "\u001b[32mSaved FeatureData[AlignedSequence] to: aligned-rep-seqs.qza\u001b[0m\n",
      "\u001b[32mSaved FeatureData[AlignedSequence] to: masked-aligned-rep-seqs.qza\u001b[0m\n",
      "\u001b[32mSaved Phylogeny[Unrooted] to: unrooted-tree.qza\u001b[0m\n",
      "\u001b[32mSaved Phylogeny[Rooted] to: rooted-tree.qza\u001b[0m\n",
      "\u001b[?25h\u001b[0m"
     ]
    }
   ],
   "source": [
    "!qiime phylogeny align-to-tree-mafft-fasttree \\\n",
    "  --i-sequences rep-seqs-dada2.qza \\\n",
    "  --o-alignment aligned-rep-seqs.qza \\\n",
    "  --o-masked-alignment masked-aligned-rep-seqs.qza \\\n",
    "  --o-tree unrooted-tree.qza \\\n",
    "  --o-rooted-tree rooted-tree.qza"
   ]
  },
  {
   "cell_type": "code",
   "execution_count": 16,
   "id": "b1fd60e4",
   "metadata": {},
   "outputs": [
    {
     "name": "stdout",
     "output_type": "stream",
     "text": [
      "/home/patwuch/miniforge3/envs/qiime2-amplicon-2025.7/lib/python3.10/site-packages/emperor/__init__.py:9: UserWarning: pkg_resources is deprecated as an API. See https://setuptools.pypa.io/en/latest/pkg_resources.html. The pkg_resources package is slated for removal as early as 2025-11-30. Refrain from using this package or pin to Setuptools<81.\n",
      "  import pkg_resources\n"
     ]
    },
    {
     "name": "stdout",
     "output_type": "stream",
     "text": [
      "\u001b[32mSaved FeatureTable[Frequency] to: core-metrics-results/rarefied_table.qza\u001b[0m\n",
      "\u001b[32mSaved SampleData[AlphaDiversity] to: core-metrics-results/faith_pd_vector.qza\u001b[0m\n",
      "\u001b[32mSaved SampleData[AlphaDiversity] to: core-metrics-results/observed_features_vector.qza\u001b[0m\n",
      "\u001b[32mSaved SampleData[AlphaDiversity] to: core-metrics-results/shannon_vector.qza\u001b[0m\n",
      "\u001b[32mSaved SampleData[AlphaDiversity] to: core-metrics-results/evenness_vector.qza\u001b[0m\n",
      "\u001b[32mSaved DistanceMatrix to: core-metrics-results/unweighted_unifrac_distance_matrix.qza\u001b[0m\n",
      "\u001b[32mSaved DistanceMatrix to: core-metrics-results/weighted_unifrac_distance_matrix.qza\u001b[0m\n",
      "\u001b[32mSaved DistanceMatrix to: core-metrics-results/jaccard_distance_matrix.qza\u001b[0m\n",
      "\u001b[32mSaved DistanceMatrix to: core-metrics-results/bray_curtis_distance_matrix.qza\u001b[0m\n",
      "\u001b[32mSaved PCoAResults to: core-metrics-results/unweighted_unifrac_pcoa_results.qza\u001b[0m\n",
      "\u001b[32mSaved PCoAResults to: core-metrics-results/weighted_unifrac_pcoa_results.qza\u001b[0m\n",
      "\u001b[32mSaved PCoAResults to: core-metrics-results/jaccard_pcoa_results.qza\u001b[0m\n",
      "\u001b[32mSaved PCoAResults to: core-metrics-results/bray_curtis_pcoa_results.qza\u001b[0m\n",
      "\u001b[32mSaved Visualization to: core-metrics-results/unweighted_unifrac_emperor.qzv\u001b[0m\n",
      "\u001b[32mSaved Visualization to: core-metrics-results/weighted_unifrac_emperor.qzv\u001b[0m\n",
      "\u001b[32mSaved Visualization to: core-metrics-results/jaccard_emperor.qzv\u001b[0m\n",
      "\u001b[32mSaved Visualization to: core-metrics-results/bray_curtis_emperor.qzv\u001b[0m\n",
      "\u001b[?25h\u001b[0m"
     ]
    }
   ],
   "source": [
    "!qiime diversity core-metrics-phylogenetic \\\n",
    "  --i-phylogeny rooted-tree.qza \\\n",
    "  --i-table table-dada2.qza \\\n",
    "  --p-sampling-depth 11533 \\\n",
    "  --m-metadata-file sample-metadata-deblur.tsv \\\n",
    "  --output-dir core-metrics-results"
   ]
  },
  {
   "cell_type": "code",
   "execution_count": 17,
   "id": "235fb5b8",
   "metadata": {},
   "outputs": [
    {
     "name": "stdout",
     "output_type": "stream",
     "text": [
      "/home/patwuch/miniforge3/envs/qiime2-amplicon-2025.7/lib/python3.10/site-packages/emperor/__init__.py:9: UserWarning: pkg_resources is deprecated as an API. See https://setuptools.pypa.io/en/latest/pkg_resources.html. The pkg_resources package is slated for removal as early as 2025-11-30. Refrain from using this package or pin to Setuptools<81.\n",
      "  import pkg_resources\n",
      "\u001b[32mSaved Visualization to: core-metrics-results/faith-pd-group-significance.qzv\u001b[0m\n",
      "\u001b[?25h\u001b[0m/home/patwuch/miniforge3/envs/qiime2-amplicon-2025.7/lib/python3.10/site-packages/emperor/__init__.py:9: UserWarning: pkg_resources is deprecated as an API. See https://setuptools.pypa.io/en/latest/pkg_resources.html. The pkg_resources package is slated for removal as early as 2025-11-30. Refrain from using this package or pin to Setuptools<81.\n",
      "  import pkg_resources\n"
     ]
    },
    {
     "name": "stdout",
     "output_type": "stream",
     "text": [
      "\u001b[32mSaved Visualization to: core-metrics-results/evenness-group-significance.qzv\u001b[0m\n",
      "\u001b[?25h\u001b[0m"
     ]
    }
   ],
   "source": [
    "!qiime diversity alpha-group-significance \\\n",
    "  --i-alpha-diversity core-metrics-results/faith_pd_vector.qza \\\n",
    "  --m-metadata-file sample-metadata-deblur.tsv \\\n",
    "  --o-visualization core-metrics-results/faith-pd-group-significance.qzv\n",
    "\n",
    "!qiime diversity alpha-group-significance \\\n",
    "  --i-alpha-diversity core-metrics-results/evenness_vector.qza \\\n",
    "  --m-metadata-file sample-metadata-deblur.tsv \\\n",
    "  --o-visualization core-metrics-results/evenness-group-significance.qzv"
   ]
  },
  {
   "cell_type": "code",
   "execution_count": 18,
   "id": "6594d1d2",
   "metadata": {},
   "outputs": [
    {
     "name": "stdout",
     "output_type": "stream",
     "text": [
      "/home/patwuch/miniforge3/envs/qiime2-amplicon-2025.7/lib/python3.10/site-packages/emperor/__init__.py:9: UserWarning: pkg_resources is deprecated as an API. See https://setuptools.pypa.io/en/latest/pkg_resources.html. The pkg_resources package is slated for removal as early as 2025-11-30. Refrain from using this package or pin to Setuptools<81.\n",
      "  import pkg_resources\n"
     ]
    },
    {
     "name": "stdout",
     "output_type": "stream",
     "text": [
      "\u001b[32mSaved Visualization to: core-metrics-results/unweighted-unifrac-body-site-significance.qzv\u001b[0m\n",
      "\u001b[?25h\u001b[0m/home/patwuch/miniforge3/envs/qiime2-amplicon-2025.7/lib/python3.10/site-packages/emperor/__init__.py:9: UserWarning: pkg_resources is deprecated as an API. See https://setuptools.pypa.io/en/latest/pkg_resources.html. The pkg_resources package is slated for removal as early as 2025-11-30. Refrain from using this package or pin to Setuptools<81.\n",
      "  import pkg_resources\n",
      "\u001b[32mSaved Visualization to: core-metrics-results/unweighted-unifrac-subject-group-significance.qzv\u001b[0m\n",
      "\u001b[?25h\u001b[0m"
     ]
    }
   ],
   "source": [
    "!qiime diversity beta-group-significance \\\n",
    "  --i-distance-matrix core-metrics-results/unweighted_unifrac_distance_matrix.qza \\\n",
    "  --m-metadata-file sample-metadata-deblur.tsv \\\n",
    "  --m-metadata-column 'sample_type' \\\n",
    "  --o-visualization core-metrics-results/unweighted-unifrac-body-site-significance.qzv \\\n",
    "  --p-pairwise\n",
    "\n",
    "!qiime diversity beta-group-significance \\\n",
    "  --i-distance-matrix core-metrics-results/unweighted_unifrac_distance_matrix.qza \\\n",
    "  --m-metadata-file sample-metadata-deblur.tsv \\\n",
    "  --m-metadata-column 'strep_group' \\\n",
    "  --o-visualization core-metrics-results/unweighted-unifrac-subject-group-significance.qzv \\\n",
    "  --p-pairwise"
   ]
  },
  {
   "cell_type": "code",
   "execution_count": 15,
   "id": "e6d139f2",
   "metadata": {},
   "outputs": [],
   "source": [
    "# There is no time metadata in this dataset, but if you had a column with time points,\n",
    "# you could use it like this:\n",
    "\n",
    "# !qiime emperor plot \\\n",
    "#   --i-pcoa core-metrics-results/unweighted_unifrac_pcoa_results.qza \\\n",
    "#   --m-metadata-file sample-meta.tsv \\\n",
    "#   --p-custom-axes days-since-experiment-start \\\n",
    "#   --o-visualization core-metrics-results/unweighted-unifrac-emperor-days-since-experiment-start.qzv\n",
    "\n",
    "# !qiime emperor plot \\\n",
    "#   --i-pcoa core-metrics-results/bray_curtis_pcoa_results.qza \\\n",
    "#   --m-metadata-file sample-meta.tsv \\\n",
    "#   --p-custom-axes days-since-experiment-start \\\n",
    "#   --o-visualization core-metrics-results/bray-curtis-emperor-days-since-experiment-start.qzv"
   ]
  },
  {
   "cell_type": "code",
   "execution_count": 19,
   "id": "b88ffeec",
   "metadata": {},
   "outputs": [
    {
     "name": "stdout",
     "output_type": "stream",
     "text": [
      "/home/patwuch/miniforge3/envs/qiime2-amplicon-2025.7/lib/python3.10/site-packages/emperor/__init__.py:9: UserWarning: pkg_resources is deprecated as an API. See https://setuptools.pypa.io/en/latest/pkg_resources.html. The pkg_resources package is slated for removal as early as 2025-11-30. Refrain from using this package or pin to Setuptools<81.\n",
      "  import pkg_resources\n",
      "\u001b[32mSaved Visualization to: alpha-rarefaction.qzv\u001b[0m\n",
      "\u001b[?25h\u001b[0m"
     ]
    }
   ],
   "source": [
    "!qiime diversity alpha-rarefaction \\\n",
    "  --i-table table-dada2.qza \\\n",
    "  --i-phylogeny rooted-tree.qza \\\n",
    "  --p-max-depth 4000 \\\n",
    "  --m-metadata-file sample-metadata-deblur.tsv \\\n",
    "  --o-visualization alpha-rarefaction.qzv"
   ]
  },
  {
   "cell_type": "code",
   "execution_count": 20,
   "id": "e8e1ca8c",
   "metadata": {},
   "outputs": [
    {
     "name": "stdout",
     "output_type": "stream",
     "text": [
      "/home/patwuch/miniforge3/envs/qiime2-amplicon-2025.7/lib/python3.10/site-packages/emperor/__init__.py:9: UserWarning: pkg_resources is deprecated as an API. See https://setuptools.pypa.io/en/latest/pkg_resources.html. The pkg_resources package is slated for removal as early as 2025-11-30. Refrain from using this package or pin to Setuptools<81.\n",
      "  import pkg_resources\n",
      "\u001b[32mSaved FeatureTable[Frequency] to: stool-table.qza\u001b[0m\n",
      "\u001b[?25h\u001b[0m"
     ]
    }
   ],
   "source": [
    "!qiime feature-table filter-samples \\\n",
    "  --i-table table-dada2.qza \\\n",
    "  --m-metadata-file sample-metadata-deblur.tsv \\\n",
    "  --p-where \"[sample_type]='stool'\" \\\n",
    "  --o-filtered-table stool-table.qza"
   ]
  },
  {
   "cell_type": "code",
   "execution_count": null,
   "id": "483755b8",
   "metadata": {},
   "outputs": [
    {
     "name": "stdout",
     "output_type": "stream",
     "text": [
      "/home/patwuch/miniforge3/envs/qiime2-amplicon-2025.7/lib/python3.10/site-packages/emperor/__init__.py:9: UserWarning: pkg_resources is deprecated as an API. See https://setuptools.pypa.io/en/latest/pkg_resources.html. The pkg_resources package is slated for removal as early as 2025-11-30. Refrain from using this package or pin to Setuptools<81.\n",
      "  import pkg_resources\n",
      "\u001b[32mSaved FeatureData[ANCOMBC2Output] to: ancombc2_results.qza\u001b[0m\n",
      "\u001b[?25h\u001b[0mUsage: \u001b[94mqiime composition da-barplot\u001b[0m [OPTIONS]\n",
      "\n",
      "  Generate bar plot views of ANCOM-BC output. One plot will be present per\n",
      "  column in the ANCOM-BC output. The `significance_threshold`,\n",
      "  `effect_size_threshold` and `feature_ids` filter results are intersected,\n",
      "  such that only features that remain after all three filters have been\n",
      "  applied will be present in the output.\n",
      "\n",
      "\u001b[1mInputs\u001b[0m:\n",
      "  \u001b[94m\u001b[4m--i-data\u001b[0m ARTIFACT \u001b[32mFeatureData[DifferentialAbundance]\u001b[0m\n",
      "                         The ANCOM-BC output to be plotted.         \u001b[35m[required]\u001b[0m\n",
      "\u001b[1mParameters\u001b[0m:\n",
      "  \u001b[94m--p-effect-size-label\u001b[0m TEXT\n",
      "                         Label for effect sizes in `data`.    \u001b[35m[default: 'lfc']\u001b[0m\n",
      "  \u001b[94m--p-feature-id-label\u001b[0m TEXT\n",
      "                         Label for feature ids in `data`.      \u001b[35m[default: 'id']\u001b[0m\n",
      "  \u001b[94m--p-error-label\u001b[0m TEXT   Label for effect size errors in `data`.\n",
      "                                                               \u001b[35m[default: 'se']\u001b[0m\n",
      "  \u001b[94m--p-significance-label\u001b[0m TEXT\n",
      "                         Label for statistical significance level in `data`.\n",
      "                                                            \u001b[35m[default: 'q_val']\u001b[0m\n",
      "  \u001b[94m--p-significance-threshold\u001b[0m PROPORTION \u001b[32mRange(0.0, 1.0, inclusive_end=True)\u001b[0m\n",
      "                         Exclude features with statistical significance level\n",
      "                         greater (i.e., less significant) than this threshold.\n",
      "                                                                \u001b[35m[default: 1.0]\u001b[0m\n",
      "  \u001b[94m--p-effect-size-threshold\u001b[0m NUMBER\n",
      "    \u001b[32mRange(0.0, None)\u001b[0m     Exclude features with an absolute value of effect\n",
      "                         size less than this threshold.         \u001b[35m[default: 0.0]\u001b[0m\n",
      "  \u001b[94m--m-feature-ids-file\u001b[0m METADATA...\n",
      "    (multiple            Exclude features if their ids are not included in\n",
      "     arguments will be   this index.\n",
      "     merged)                                                        \u001b[35m[optional]\u001b[0m\n",
      "  \u001b[94m--p-level-delimiter\u001b[0m TEXT\n",
      "                         If feature ids encode hierarchical information,\n",
      "                         split the levels when generating feature labels in\n",
      "                         the visualization using this delimiter.    \u001b[35m[optional]\u001b[0m\n",
      "  \u001b[94m--p-label-limit\u001b[0m INTEGER\n",
      "                         Set the maximum length that will be viewable for\n",
      "                         axis labels. You can set this parameter if your axis\n",
      "                         labels are being cut off.                  \u001b[35m[optional]\u001b[0m\n",
      "\u001b[1mOutputs\u001b[0m:\n",
      "  \u001b[94m\u001b[4m--o-visualization\u001b[0m VISUALIZATION\n",
      "                                                                    \u001b[35m[required]\u001b[0m\n",
      "\u001b[1mMiscellaneous\u001b[0m:\n",
      "  \u001b[94m--output-dir\u001b[0m PATH      Output unspecified results to a directory\n",
      "  \u001b[94m--verbose\u001b[0m / \u001b[94m--quiet\u001b[0m    Display verbose output to stdout and/or stderr\n",
      "                         during execution of this action. Or silence output if\n",
      "                         execution is successful (silence is golden).\n",
      "  \u001b[94m--example-data\u001b[0m PATH    Write example data and exit.\n",
      "  \u001b[94m--citations\u001b[0m            Show citations and exit.\n",
      "  \u001b[94m--use-cache\u001b[0m DIRECTORY  Specify the cache to be used for the intermediate\n",
      "                         work of this action. If not provided, the default\n",
      "                         cache under $TMP/qiime2/<uname> will be used.\n",
      "                         IMPORTANT FOR HPC USERS: If you are on an HPC system\n",
      "                         and are using parallel execution it is important to\n",
      "                         set this to a location that is globally accessible to\n",
      "                         all nodes in the cluster.\n",
      "  \u001b[94m--help\u001b[0m                 Show this message and exit.\n",
      "\n",
      "\u001b[33m                    There was a problem with the command:                     \u001b[0m\n",
      "\u001b[31m\u001b[1m (1/1?) No such option: --m-metadata-file\u001b[0m\n"
     ]
    }
   ],
   "source": [
    "!qiime composition ancombc2 \\\n",
    "  --i-table stool-table.qza \\\n",
    "  --m-metadata-file sample-metadata-deblur.tsv \\\n",
    "  --p-fixed-effects-formula \"patient_id\" \\\n",
    "  --o-ancombc2-output ancombc2_results.qza\n"
   ]
  },
  {
   "cell_type": "code",
   "execution_count": 27,
   "id": "7b50d5c0",
   "metadata": {},
   "outputs": [
    {
     "name": "stdout",
     "output_type": "stream",
     "text": [
      "/home/patwuch/miniforge3/envs/qiime2-amplicon-2025.7/lib/python3.10/site-packages/emperor/__init__.py:9: UserWarning: pkg_resources is deprecated as an API. See https://setuptools.pypa.io/en/latest/pkg_resources.html. The pkg_resources package is slated for removal as early as 2025-11-30. Refrain from using this package or pin to Setuptools<81.\n",
      "  import pkg_resources\n",
      "\u001b[32mSaved Visualization to: ancombc2-patient.qzv\u001b[0m\n",
      "\u001b[?25h\u001b[0m"
     ]
    }
   ],
   "source": [
    "!qiime composition ancombc2-visualizer \\\n",
    "  --i-data ancombc2_results.qza \\\n",
    "  --i-taxonomy taxonomy.qza \\\n",
    "  --o-visualization ancombc2-patient.qzv"
   ]
  },
  {
   "cell_type": "code",
   "execution_count": null,
   "id": "f34fdaf8",
   "metadata": {},
   "outputs": [],
   "source": [
    "!qiime taxa collapse \\\n",
    "  --i-table stool-table.qza \\\n",
    "  --i-taxonomy taxonomy.qza \\\n",
    "  --p-level 6 \\\n",
    "  --o-collapsed-table stool-table-l6.qza\n",
    "\n",
    "!qiime composition ancombc2 \\\n",
    "  --i-table stool-table-l6.qza \\\n",
    "  --m-metadata-file sample-metadata-deblur.tsv \\\n",
    "  --p-formula 'patient_id' \\\n",
    "  --o-differentials l6-ancombc-patient.qza\n",
    "\n",
    "!qiime composition da-barplot \\\n",
    "  --i-data l6-ancombc-patient.qza \\\n",
    "  --p-significance-threshold 0.001 \\\n",
    "  --p-level-delimiter ';' \\\n",
    "  --o-visualization l6-da-barplot-patient.qzv"
   ]
  },
  {
   "cell_type": "code",
   "execution_count": 28,
   "id": "59aebb2c",
   "metadata": {},
   "outputs": [
    {
     "name": "stdout",
     "output_type": "stream",
     "text": [
      "/home/patwuch/miniforge3/envs/qiime2-amplicon-2025.7/lib/python3.10/site-packages/emperor/__init__.py:9: UserWarning: pkg_resources is deprecated as an API. See https://setuptools.pypa.io/en/latest/pkg_resources.html. The pkg_resources package is slated for removal as early as 2025-11-30. Refrain from using this package or pin to Setuptools<81.\n",
      "  import pkg_resources\n",
      "\u001b[32mSaved Visualization to: permanova_SIBO.qzv\u001b[0m\n",
      "\u001b[?25h\u001b[0m/home/patwuch/miniforge3/envs/qiime2-amplicon-2025.7/lib/python3.10/site-packages/emperor/__init__.py:9: UserWarning: pkg_resources is deprecated as an API. See https://setuptools.pypa.io/en/latest/pkg_resources.html. The pkg_resources package is slated for removal as early as 2025-11-30. Refrain from using this package or pin to Setuptools<81.\n",
      "  import pkg_resources\n",
      "\u001b[32mSaved Visualization to: permanova_SIBO.qzv\u001b[0m\n",
      "\u001b[?25h\u001b[0m"
     ]
    }
   ],
   "source": [
    "!qiime diversity beta-group-significance \\\n",
    "  --i-distance-matrix core-metrics-results/bray_curtis_distance_matrix.qza \\\n",
    "  --m-metadata-file sample-metadata-deblur.tsv \\\n",
    "  --m-metadata-column SIBO \\\n",
    "  --p-method permanova \\\n",
    "  --o-visualization permanova_SIBO.qzv\n",
    "\n",
    "!qiime diversity beta-group-significance \\\n",
    "  --i-distance-matrix core-metrics-results/bray_curtis_distance_matrix.qza \\\n",
    "  --m-metadata-file sample-metadata-deblur.tsv \\\n",
    "  --m-metadata-column strep_group \\\n",
    "  --p-method permanova \\\n",
    "  --o-visualization permanova_SIBO.qzv\n"
   ]
  },
  {
   "cell_type": "code",
   "execution_count": 29,
   "id": "dc8ff613",
   "metadata": {},
   "outputs": [
    {
     "name": "stdout",
     "output_type": "stream",
     "text": [
      "/home/patwuch/miniforge3/envs/qiime2-amplicon-2025.7/lib/python3.10/site-packages/emperor/__init__.py:9: UserWarning: pkg_resources is deprecated as an API. See https://setuptools.pypa.io/en/latest/pkg_resources.html. The pkg_resources package is slated for removal as early as 2025-11-30. Refrain from using this package or pin to Setuptools<81.\n",
      "  import pkg_resources\n",
      "\u001b[32mSaved Visualization to: permanova_weighted_unifrac_SIBO.qzv\u001b[0m\n",
      "\u001b[?25h\u001b[0m/home/patwuch/miniforge3/envs/qiime2-amplicon-2025.7/lib/python3.10/site-packages/emperor/__init__.py:9: UserWarning: pkg_resources is deprecated as an API. See https://setuptools.pypa.io/en/latest/pkg_resources.html. The pkg_resources package is slated for removal as early as 2025-11-30. Refrain from using this package or pin to Setuptools<81.\n",
      "  import pkg_resources\n",
      "\u001b[32mSaved Visualization to: permdisp_weighted_unifrac_SIBO.qzv\u001b[0m\n",
      "\u001b[?25h\u001b[0m/home/patwuch/miniforge3/envs/qiime2-amplicon-2025.7/lib/python3.10/site-packages/emperor/__init__.py:9: UserWarning: pkg_resources is deprecated as an API. See https://setuptools.pypa.io/en/latest/pkg_resources.html. The pkg_resources package is slated for removal as early as 2025-11-30. Refrain from using this package or pin to Setuptools<81.\n",
      "  import pkg_resources\n",
      "\u001b[32mSaved Visualization to: permanova_weighted_unifrac_strep_group.qzv\u001b[0m\n",
      "\u001b[?25h\u001b[0m/home/patwuch/miniforge3/envs/qiime2-amplicon-2025.7/lib/python3.10/site-packages/emperor/__init__.py:9: UserWarning: pkg_resources is deprecated as an API. See https://setuptools.pypa.io/en/latest/pkg_resources.html. The pkg_resources package is slated for removal as early as 2025-11-30. Refrain from using this package or pin to Setuptools<81.\n",
      "  import pkg_resources\n",
      "\u001b[32mSaved Visualization to: permdisp_weighted_unifrac_strep_group.qzv\u001b[0m\n",
      "\u001b[?25h\u001b[0m/home/patwuch/miniforge3/envs/qiime2-amplicon-2025.7/lib/python3.10/site-packages/emperor/__init__.py:9: UserWarning: pkg_resources is deprecated as an API. See https://setuptools.pypa.io/en/latest/pkg_resources.html. The pkg_resources package is slated for removal as early as 2025-11-30. Refrain from using this package or pin to Setuptools<81.\n",
      "  import pkg_resources\n",
      "\u001b[32mSaved Visualization to: permanova_weighted_unifrac_sample_type.qzv\u001b[0m\n",
      "\u001b[?25h\u001b[0m/home/patwuch/miniforge3/envs/qiime2-amplicon-2025.7/lib/python3.10/site-packages/emperor/__init__.py:9: UserWarning: pkg_resources is deprecated as an API. See https://setuptools.pypa.io/en/latest/pkg_resources.html. The pkg_resources package is slated for removal as early as 2025-11-30. Refrain from using this package or pin to Setuptools<81.\n",
      "  import pkg_resources\n",
      "\u001b[32mSaved Visualization to: permdisp_weighted_unifrac_sample_type.qzv\u001b[0m\n",
      "\u001b[?25h\u001b[0m/home/patwuch/miniforge3/envs/qiime2-amplicon-2025.7/lib/python3.10/site-packages/emperor/__init__.py:9: UserWarning: pkg_resources is deprecated as an API. See https://setuptools.pypa.io/en/latest/pkg_resources.html. The pkg_resources package is slated for removal as early as 2025-11-30. Refrain from using this package or pin to Setuptools<81.\n",
      "  import pkg_resources\n",
      "\u001b[32mSaved Visualization to: permanova_unweighted_unifrac_SIBO.qzv\u001b[0m\n",
      "\u001b[?25h\u001b[0m/home/patwuch/miniforge3/envs/qiime2-amplicon-2025.7/lib/python3.10/site-packages/emperor/__init__.py:9: UserWarning: pkg_resources is deprecated as an API. See https://setuptools.pypa.io/en/latest/pkg_resources.html. The pkg_resources package is slated for removal as early as 2025-11-30. Refrain from using this package or pin to Setuptools<81.\n",
      "  import pkg_resources\n",
      "\u001b[32mSaved Visualization to: permdisp_unweighted_unifrac_SIBO.qzv\u001b[0m\n",
      "\u001b[?25h\u001b[0m/home/patwuch/miniforge3/envs/qiime2-amplicon-2025.7/lib/python3.10/site-packages/emperor/__init__.py:9: UserWarning: pkg_resources is deprecated as an API. See https://setuptools.pypa.io/en/latest/pkg_resources.html. The pkg_resources package is slated for removal as early as 2025-11-30. Refrain from using this package or pin to Setuptools<81.\n",
      "  import pkg_resources\n",
      "\u001b[32mSaved Visualization to: permanova_unweighted_unifrac_strep_group.qzv\u001b[0m\n",
      "\u001b[?25h\u001b[0m/home/patwuch/miniforge3/envs/qiime2-amplicon-2025.7/lib/python3.10/site-packages/emperor/__init__.py:9: UserWarning: pkg_resources is deprecated as an API. See https://setuptools.pypa.io/en/latest/pkg_resources.html. The pkg_resources package is slated for removal as early as 2025-11-30. Refrain from using this package or pin to Setuptools<81.\n",
      "  import pkg_resources\n",
      "\u001b[32mSaved Visualization to: permdisp_unweighted_unifrac_strep_group.qzv\u001b[0m\n",
      "\u001b[?25h\u001b[0m/home/patwuch/miniforge3/envs/qiime2-amplicon-2025.7/lib/python3.10/site-packages/emperor/__init__.py:9: UserWarning: pkg_resources is deprecated as an API. See https://setuptools.pypa.io/en/latest/pkg_resources.html. The pkg_resources package is slated for removal as early as 2025-11-30. Refrain from using this package or pin to Setuptools<81.\n",
      "  import pkg_resources\n",
      "\u001b[32mSaved Visualization to: permanova_unweighted_unifrac_sample_type.qzv\u001b[0m\n",
      "\u001b[?25h\u001b[0m/home/patwuch/miniforge3/envs/qiime2-amplicon-2025.7/lib/python3.10/site-packages/emperor/__init__.py:9: UserWarning: pkg_resources is deprecated as an API. See https://setuptools.pypa.io/en/latest/pkg_resources.html. The pkg_resources package is slated for removal as early as 2025-11-30. Refrain from using this package or pin to Setuptools<81.\n",
      "  import pkg_resources\n",
      "\u001b[32mSaved Visualization to: permdisp_unweighted_unifrac_sample_type.qzv\u001b[0m\n",
      "\u001b[?25h\u001b[0m/home/patwuch/miniforge3/envs/qiime2-amplicon-2025.7/lib/python3.10/site-packages/emperor/__init__.py:9: UserWarning: pkg_resources is deprecated as an API. See https://setuptools.pypa.io/en/latest/pkg_resources.html. The pkg_resources package is slated for removal as early as 2025-11-30. Refrain from using this package or pin to Setuptools<81.\n",
      "  import pkg_resources\n",
      "\u001b[32mSaved Visualization to: permanova_jaccard_SIBO.qzv\u001b[0m\n",
      "\u001b[?25h\u001b[0m/home/patwuch/miniforge3/envs/qiime2-amplicon-2025.7/lib/python3.10/site-packages/emperor/__init__.py:9: UserWarning: pkg_resources is deprecated as an API. See https://setuptools.pypa.io/en/latest/pkg_resources.html. The pkg_resources package is slated for removal as early as 2025-11-30. Refrain from using this package or pin to Setuptools<81.\n",
      "  import pkg_resources\n",
      "\u001b[32mSaved Visualization to: permdisp_jaccard_SIBO.qzv\u001b[0m\n",
      "\u001b[?25h\u001b[0m/home/patwuch/miniforge3/envs/qiime2-amplicon-2025.7/lib/python3.10/site-packages/emperor/__init__.py:9: UserWarning: pkg_resources is deprecated as an API. See https://setuptools.pypa.io/en/latest/pkg_resources.html. The pkg_resources package is slated for removal as early as 2025-11-30. Refrain from using this package or pin to Setuptools<81.\n",
      "  import pkg_resources\n",
      "\u001b[32mSaved Visualization to: permanova_jaccard_strep_group.qzv\u001b[0m\n",
      "\u001b[?25h\u001b[0m/home/patwuch/miniforge3/envs/qiime2-amplicon-2025.7/lib/python3.10/site-packages/emperor/__init__.py:9: UserWarning: pkg_resources is deprecated as an API. See https://setuptools.pypa.io/en/latest/pkg_resources.html. The pkg_resources package is slated for removal as early as 2025-11-30. Refrain from using this package or pin to Setuptools<81.\n",
      "  import pkg_resources\n",
      "\u001b[32mSaved Visualization to: permdisp_jaccard_strep_group.qzv\u001b[0m\n",
      "\u001b[?25h\u001b[0m/home/patwuch/miniforge3/envs/qiime2-amplicon-2025.7/lib/python3.10/site-packages/emperor/__init__.py:9: UserWarning: pkg_resources is deprecated as an API. See https://setuptools.pypa.io/en/latest/pkg_resources.html. The pkg_resources package is slated for removal as early as 2025-11-30. Refrain from using this package or pin to Setuptools<81.\n",
      "  import pkg_resources\n",
      "\u001b[32mSaved Visualization to: permanova_jaccard_sample_type.qzv\u001b[0m\n",
      "\u001b[?25h\u001b[0m/home/patwuch/miniforge3/envs/qiime2-amplicon-2025.7/lib/python3.10/site-packages/emperor/__init__.py:9: UserWarning: pkg_resources is deprecated as an API. See https://setuptools.pypa.io/en/latest/pkg_resources.html. The pkg_resources package is slated for removal as early as 2025-11-30. Refrain from using this package or pin to Setuptools<81.\n",
      "  import pkg_resources\n",
      "\u001b[32mSaved Visualization to: permdisp_jaccard_sample_type.qzv\u001b[0m\n",
      "\u001b[?25h\u001b[0m/home/patwuch/miniforge3/envs/qiime2-amplicon-2025.7/lib/python3.10/site-packages/emperor/__init__.py:9: UserWarning: pkg_resources is deprecated as an API. See https://setuptools.pypa.io/en/latest/pkg_resources.html. The pkg_resources package is slated for removal as early as 2025-11-30. Refrain from using this package or pin to Setuptools<81.\n",
      "  import pkg_resources\n",
      "\u001b[32mSaved Visualization to: permanova_bray_curtis_SIBO.qzv\u001b[0m\n",
      "\u001b[?25h\u001b[0m/home/patwuch/miniforge3/envs/qiime2-amplicon-2025.7/lib/python3.10/site-packages/emperor/__init__.py:9: UserWarning: pkg_resources is deprecated as an API. See https://setuptools.pypa.io/en/latest/pkg_resources.html. The pkg_resources package is slated for removal as early as 2025-11-30. Refrain from using this package or pin to Setuptools<81.\n",
      "  import pkg_resources\n",
      "\u001b[32mSaved Visualization to: permdisp_bray_curtis_SIBO.qzv\u001b[0m\n",
      "\u001b[?25h\u001b[0m/home/patwuch/miniforge3/envs/qiime2-amplicon-2025.7/lib/python3.10/site-packages/emperor/__init__.py:9: UserWarning: pkg_resources is deprecated as an API. See https://setuptools.pypa.io/en/latest/pkg_resources.html. The pkg_resources package is slated for removal as early as 2025-11-30. Refrain from using this package or pin to Setuptools<81.\n",
      "  import pkg_resources\n",
      "\u001b[32mSaved Visualization to: permanova_bray_curtis_strep_group.qzv\u001b[0m\n",
      "\u001b[?25h\u001b[0m/home/patwuch/miniforge3/envs/qiime2-amplicon-2025.7/lib/python3.10/site-packages/emperor/__init__.py:9: UserWarning: pkg_resources is deprecated as an API. See https://setuptools.pypa.io/en/latest/pkg_resources.html. The pkg_resources package is slated for removal as early as 2025-11-30. Refrain from using this package or pin to Setuptools<81.\n",
      "  import pkg_resources\n",
      "\u001b[32mSaved Visualization to: permdisp_bray_curtis_strep_group.qzv\u001b[0m\n",
      "\u001b[?25h\u001b[0m/home/patwuch/miniforge3/envs/qiime2-amplicon-2025.7/lib/python3.10/site-packages/emperor/__init__.py:9: UserWarning: pkg_resources is deprecated as an API. See https://setuptools.pypa.io/en/latest/pkg_resources.html. The pkg_resources package is slated for removal as early as 2025-11-30. Refrain from using this package or pin to Setuptools<81.\n",
      "  import pkg_resources\n",
      "\u001b[32mSaved Visualization to: permanova_bray_curtis_sample_type.qzv\u001b[0m\n",
      "\u001b[?25h\u001b[0m/home/patwuch/miniforge3/envs/qiime2-amplicon-2025.7/lib/python3.10/site-packages/emperor/__init__.py:9: UserWarning: pkg_resources is deprecated as an API. See https://setuptools.pypa.io/en/latest/pkg_resources.html. The pkg_resources package is slated for removal as early as 2025-11-30. Refrain from using this package or pin to Setuptools<81.\n",
      "  import pkg_resources\n",
      "\u001b[32mSaved Visualization to: permdisp_bray_curtis_sample_type.qzv\u001b[0m\n",
      "\u001b[?25h\u001b[0m"
     ]
    }
   ],
   "source": [
    "import os\n",
    "\n",
    "metadata = \"sample-metadata-deblur.tsv\"\n",
    "columns = [\"SIBO\", \"strep_group\", \"sample_type\"]\n",
    "distances = [f for f in os.listdir(\"core-metrics-results\") if f.endswith(\"_distance_matrix.qza\")]\n",
    "\n",
    "for dist in distances:\n",
    "    base = dist.replace(\"_distance_matrix.qza\", \"\")\n",
    "    dist_path = os.path.join(\"core-metrics-results\", dist)\n",
    "    \n",
    "    for col in columns:\n",
    "        # PERMANOVA\n",
    "        !qiime diversity beta-group-significance \\\n",
    "            --i-distance-matrix {dist_path} \\\n",
    "            --m-metadata-file {metadata} \\\n",
    "            --m-metadata-column {col} \\\n",
    "            --p-method permanova \\\n",
    "            --o-visualization permanova_{base}_{col}.qzv\n",
    "\n",
    "        # PERMDISP\n",
    "        !qiime diversity beta-group-significance \\\n",
    "            --i-distance-matrix {dist_path} \\\n",
    "            --m-metadata-file {metadata} \\\n",
    "            --m-metadata-column {col} \\\n",
    "            --p-method permdisp \\\n",
    "            --o-visualization permdisp_{base}_{col}.qzv"
   ]
  },
  {
   "cell_type": "code",
   "execution_count": 3,
   "id": "ae550367",
   "metadata": {},
   "outputs": [
    {
     "name": "stdout",
     "output_type": "stream",
     "text": [
      "/home/patwuch/miniforge3/envs/qiime2-amplicon-2025.7/lib/python3.10/site-packages/emperor/__init__.py:9: UserWarning: pkg_resources is deprecated as an API. See https://setuptools.pypa.io/en/latest/pkg_resources.html. The pkg_resources package is slated for removal as early as 2025-11-30. Refrain from using this package or pin to Setuptools<81.\n",
      "  import pkg_resources\n",
      "\u001b[32mExported rooted-tree.qza as NewickDirectoryFormat to directory exported_tree\u001b[0m\n",
      "\u001b[?25h\u001b[0m/home/patwuch/miniforge3/envs/qiime2-amplicon-2025.7/lib/python3.10/site-packages/emperor/__init__.py:9: UserWarning: pkg_resources is deprecated as an API. See https://setuptools.pypa.io/en/latest/pkg_resources.html. The pkg_resources package is slated for removal as early as 2025-11-30. Refrain from using this package or pin to Setuptools<81.\n",
      "  import pkg_resources\n",
      "\u001b[32mExported taxonomy.qza as TSVTaxonomyDirectoryFormat to directory exported_taxonomy\u001b[0m\n",
      "\u001b[?25h\u001b[0m"
     ]
    }
   ],
   "source": [
    "!qiime tools export \\\n",
    "  --input-path rooted-tree.qza \\\n",
    "  --output-path exported_tree\n",
    "\n",
    "!qiime tools export \\\n",
    "  --input-path taxonomy.qza \\\n",
    "  --output-path exported_taxonomy"
   ]
  },
  {
   "cell_type": "code",
   "execution_count": 1,
   "id": "9ff33407",
   "metadata": {},
   "outputs": [],
   "source": [
    "%load_ext rpy2.ipython"
   ]
  },
  {
   "cell_type": "code",
   "execution_count": 2,
   "id": "f5347153",
   "metadata": {},
   "outputs": [
    {
     "ename": "RParsingError",
     "evalue": "Parsing status not OK - PARSING_STATUS.PARSE_ERROR",
     "output_type": "error",
     "traceback": [
      "\u001b[0;31m---------------------------------------------------------------------------\u001b[0m",
      "\u001b[0;31mRParsingError\u001b[0m                             Traceback (most recent call last)",
      "Cell \u001b[0;32mIn[2], line 1\u001b[0m\n\u001b[0;32m----> 1\u001b[0m \u001b[43mget_ipython\u001b[49m\u001b[43m(\u001b[49m\u001b[43m)\u001b[49m\u001b[38;5;241;43m.\u001b[39;49m\u001b[43mrun_cell_magic\u001b[49m\u001b[43m(\u001b[49m\u001b[38;5;124;43m'\u001b[39;49m\u001b[38;5;124;43mR\u001b[39;49m\u001b[38;5;124;43m'\u001b[39;49m\u001b[43m,\u001b[49m\u001b[43m \u001b[49m\u001b[38;5;124;43m'\u001b[39;49m\u001b[38;5;124;43m'\u001b[39;49m\u001b[43m,\u001b[49m\u001b[43m \u001b[49m\u001b[38;5;124;43m'\u001b[39;49m\u001b[38;5;124;43mlibrary(phyloseq)\u001b[39;49m\u001b[38;5;130;43;01m\\n\u001b[39;49;00m\u001b[38;5;124;43mlibrary(ape)\u001b[39;49m\u001b[38;5;130;43;01m\\n\u001b[39;49;00m\u001b[38;5;130;43;01m\\n\u001b[39;49;00m\u001b[38;5;124;43mqiime phylogeny align-to-tree-mafft-fasttree \u001b[39;49m\u001b[38;5;130;43;01m\\\\\u001b[39;49;00m\u001b[38;5;130;43;01m\\n\u001b[39;49;00m\u001b[38;5;124;43m  --i-sequences rep-seqs-dada2.qza \u001b[39;49m\u001b[38;5;130;43;01m\\\\\u001b[39;49;00m\u001b[38;5;130;43;01m\\n\u001b[39;49;00m\u001b[38;5;124;43m  --o-alignment aligned-rep-seqs.qza \u001b[39;49m\u001b[38;5;130;43;01m\\\\\u001b[39;49;00m\u001b[38;5;130;43;01m\\n\u001b[39;49;00m\u001b[38;5;124;43m  --o-masked-alignment masked-aligned-rep-seqs.qza \u001b[39;49m\u001b[38;5;130;43;01m\\\\\u001b[39;49;00m\u001b[38;5;130;43;01m\\n\u001b[39;49;00m\u001b[38;5;124;43m  --o-tree unrooted-tree.qza \u001b[39;49m\u001b[38;5;130;43;01m\\\\\u001b[39;49;00m\u001b[38;5;130;43;01m\\n\u001b[39;49;00m\u001b[38;5;124;43m  --o-rooted-tree rooted-tree.qza\u001b[39;49m\u001b[38;5;130;43;01m\\n\u001b[39;49;00m\u001b[38;5;124;43m'\u001b[39;49m\u001b[43m)\u001b[49m\n",
      "File \u001b[0;32m/home/patwuch/miniforge3/envs/qiime2-amplicon-2025.7/lib/python3.10/site-packages/IPython/core/interactiveshell.py:2543\u001b[0m, in \u001b[0;36mInteractiveShell.run_cell_magic\u001b[0;34m(self, magic_name, line, cell)\u001b[0m\n\u001b[1;32m   2541\u001b[0m \u001b[38;5;28;01mwith\u001b[39;00m \u001b[38;5;28mself\u001b[39m\u001b[38;5;241m.\u001b[39mbuiltin_trap:\n\u001b[1;32m   2542\u001b[0m     args \u001b[38;5;241m=\u001b[39m (magic_arg_s, cell)\n\u001b[0;32m-> 2543\u001b[0m     result \u001b[38;5;241m=\u001b[39m \u001b[43mfn\u001b[49m\u001b[43m(\u001b[49m\u001b[38;5;241;43m*\u001b[39;49m\u001b[43margs\u001b[49m\u001b[43m,\u001b[49m\u001b[43m \u001b[49m\u001b[38;5;241;43m*\u001b[39;49m\u001b[38;5;241;43m*\u001b[39;49m\u001b[43mkwargs\u001b[49m\u001b[43m)\u001b[49m\n\u001b[1;32m   2545\u001b[0m \u001b[38;5;66;03m# The code below prevents the output from being displayed\u001b[39;00m\n\u001b[1;32m   2546\u001b[0m \u001b[38;5;66;03m# when using magics with decorator @output_can_be_silenced\u001b[39;00m\n\u001b[1;32m   2547\u001b[0m \u001b[38;5;66;03m# when the last Python token in the expression is a ';'.\u001b[39;00m\n\u001b[1;32m   2548\u001b[0m \u001b[38;5;28;01mif\u001b[39;00m \u001b[38;5;28mgetattr\u001b[39m(fn, magic\u001b[38;5;241m.\u001b[39mMAGIC_OUTPUT_CAN_BE_SILENCED, \u001b[38;5;28;01mFalse\u001b[39;00m):\n",
      "File \u001b[0;32m/home/patwuch/miniforge3/envs/qiime2-amplicon-2025.7/lib/python3.10/site-packages/rpy2/ipython/rmagic.py:923\u001b[0m, in \u001b[0;36mRMagics.R\u001b[0;34m(self, line, cell, local_ns)\u001b[0m\n\u001b[1;32m    921\u001b[0m         return_output \u001b[38;5;241m=\u001b[39m \u001b[38;5;28;01mFalse\u001b[39;00m\n\u001b[1;32m    922\u001b[0m \u001b[38;5;28;01melse\u001b[39;00m:\n\u001b[0;32m--> 923\u001b[0m     text_result, result, visible \u001b[38;5;241m=\u001b[39m \u001b[38;5;28;43mself\u001b[39;49m\u001b[38;5;241;43m.\u001b[39;49m\u001b[43meval\u001b[49m\u001b[43m(\u001b[49m\u001b[43mcode\u001b[49m\u001b[43m)\u001b[49m\n\u001b[1;32m    924\u001b[0m     text_output \u001b[38;5;241m+\u001b[39m\u001b[38;5;241m=\u001b[39m text_result\n\u001b[1;32m    925\u001b[0m     \u001b[38;5;28;01mif\u001b[39;00m visible:\n",
      "File \u001b[0;32m/home/patwuch/miniforge3/envs/qiime2-amplicon-2025.7/lib/python3.10/site-packages/rpy2/ipython/rmagic.py:385\u001b[0m, in \u001b[0;36mRMagics.eval\u001b[0;34m(self, code)\u001b[0m\n\u001b[1;32m    377\u001b[0m     stack\u001b[38;5;241m.\u001b[39menter(\n\u001b[1;32m    378\u001b[0m         rpy2\u001b[38;5;241m.\u001b[39mrinterface_lib\n\u001b[1;32m    379\u001b[0m         \u001b[38;5;241m.\u001b[39mcallbacks\u001b[38;5;241m.\u001b[39mobj_in_module(rpy2\u001b[38;5;241m.\u001b[39mrinterface_lib\u001b[38;5;241m.\u001b[39mcallbacks,\n\u001b[1;32m    380\u001b[0m                                  \u001b[38;5;124m'\u001b[39m\u001b[38;5;124mconsolewrite_print\u001b[39m\u001b[38;5;124m'\u001b[39m,\n\u001b[1;32m    381\u001b[0m                                  \u001b[38;5;28mself\u001b[39m\u001b[38;5;241m.\u001b[39mwrite_console_regular)\n\u001b[1;32m    382\u001b[0m     )\n\u001b[1;32m    383\u001b[0m \u001b[38;5;28;01mtry\u001b[39;00m:\n\u001b[1;32m    384\u001b[0m     \u001b[38;5;66;03m# Need the newline in case the last line in code is a comment.\u001b[39;00m\n\u001b[0;32m--> 385\u001b[0m     value, visible \u001b[38;5;241m=\u001b[39m \u001b[43mro\u001b[49m\u001b[38;5;241;43m.\u001b[39;49m\u001b[43mr\u001b[49m\u001b[43m(\u001b[49m\u001b[38;5;124;43m\"\u001b[39;49m\u001b[38;5;124;43mwithVisible(\u001b[39;49m\u001b[38;5;124;43m{\u001b[39;49m\u001b[38;5;132;43;01m%s\u001b[39;49;00m\u001b[38;5;130;43;01m\\n\u001b[39;49;00m\u001b[38;5;124;43m})\u001b[39;49m\u001b[38;5;124;43m\"\u001b[39;49m\u001b[43m \u001b[49m\u001b[38;5;241;43m%\u001b[39;49m\u001b[43m \u001b[49m\u001b[43mcode\u001b[49m\u001b[43m)\u001b[49m\n\u001b[1;32m    386\u001b[0m \u001b[38;5;28;01mexcept\u001b[39;00m (ri\u001b[38;5;241m.\u001b[39membedded\u001b[38;5;241m.\u001b[39mRRuntimeError, \u001b[38;5;167;01mValueError\u001b[39;00m) \u001b[38;5;28;01mas\u001b[39;00m exception:\n\u001b[1;32m    387\u001b[0m     \u001b[38;5;66;03m# Otherwise next return seems to have copy of error.\u001b[39;00m\n\u001b[1;32m    388\u001b[0m     warning_or_other_msg \u001b[38;5;241m=\u001b[39m \u001b[38;5;28mself\u001b[39m\u001b[38;5;241m.\u001b[39mflush()\n",
      "File \u001b[0;32m/home/patwuch/miniforge3/envs/qiime2-amplicon-2025.7/lib/python3.10/site-packages/rpy2/robjects/__init__.py:458\u001b[0m, in \u001b[0;36mR.__call__\u001b[0;34m(self, string)\u001b[0m\n\u001b[1;32m    457\u001b[0m \u001b[38;5;28;01mdef\u001b[39;00m\u001b[38;5;250m \u001b[39m\u001b[38;5;21m__call__\u001b[39m(\u001b[38;5;28mself\u001b[39m, string):\n\u001b[0;32m--> 458\u001b[0m     p \u001b[38;5;241m=\u001b[39m \u001b[43mrinterface\u001b[49m\u001b[38;5;241;43m.\u001b[39;49m\u001b[43mparse\u001b[49m\u001b[43m(\u001b[49m\u001b[43mstring\u001b[49m\u001b[43m)\u001b[49m\n\u001b[1;32m    459\u001b[0m     res \u001b[38;5;241m=\u001b[39m \u001b[38;5;28mself\u001b[39m\u001b[38;5;241m.\u001b[39meval(p)\n\u001b[1;32m    460\u001b[0m     \u001b[38;5;28;01mreturn\u001b[39;00m conversion\u001b[38;5;241m.\u001b[39mget_conversion()\u001b[38;5;241m.\u001b[39mrpy2py(res)\n",
      "File \u001b[0;32m/home/patwuch/miniforge3/envs/qiime2-amplicon-2025.7/lib/python3.10/site-packages/rpy2/rinterface_lib/conversion.py:45\u001b[0m, in \u001b[0;36m_cdata_res_to_rinterface.<locals>._\u001b[0;34m(*args, **kwargs)\u001b[0m\n\u001b[1;32m     44\u001b[0m \u001b[38;5;28;01mdef\u001b[39;00m\u001b[38;5;250m \u001b[39m\u001b[38;5;21m_\u001b[39m(\u001b[38;5;241m*\u001b[39margs, \u001b[38;5;241m*\u001b[39m\u001b[38;5;241m*\u001b[39mkwargs):\n\u001b[0;32m---> 45\u001b[0m     cdata \u001b[38;5;241m=\u001b[39m \u001b[43mfunction\u001b[49m\u001b[43m(\u001b[49m\u001b[38;5;241;43m*\u001b[39;49m\u001b[43margs\u001b[49m\u001b[43m,\u001b[49m\u001b[43m \u001b[49m\u001b[38;5;241;43m*\u001b[39;49m\u001b[38;5;241;43m*\u001b[39;49m\u001b[43mkwargs\u001b[49m\u001b[43m)\u001b[49m\n\u001b[1;32m     46\u001b[0m     \u001b[38;5;66;03m# TODO: test cdata is of the expected CType\u001b[39;00m\n\u001b[1;32m     47\u001b[0m     \u001b[38;5;28;01mreturn\u001b[39;00m _cdata_to_rinterface(cdata)\n",
      "File \u001b[0;32m/home/patwuch/miniforge3/envs/qiime2-amplicon-2025.7/lib/python3.10/site-packages/rpy2/rinterface.py:110\u001b[0m, in \u001b[0;36mparse\u001b[0;34m(text, num)\u001b[0m\n\u001b[1;32m    108\u001b[0m robj \u001b[38;5;241m=\u001b[39m StrSexpVector([text])\n\u001b[1;32m    109\u001b[0m \u001b[38;5;28;01mwith\u001b[39;00m memorymanagement\u001b[38;5;241m.\u001b[39mrmemory() \u001b[38;5;28;01mas\u001b[39;00m rmemory:\n\u001b[0;32m--> 110\u001b[0m     res \u001b[38;5;241m=\u001b[39m \u001b[43m_rinterface\u001b[49m\u001b[38;5;241;43m.\u001b[39;49m\u001b[43m_parse\u001b[49m\u001b[43m(\u001b[49m\u001b[43mrobj\u001b[49m\u001b[38;5;241;43m.\u001b[39;49m\u001b[43m__sexp__\u001b[49m\u001b[38;5;241;43m.\u001b[39;49m\u001b[43m_cdata\u001b[49m\u001b[43m,\u001b[49m\u001b[43m \u001b[49m\u001b[43mnum\u001b[49m\u001b[43m,\u001b[49m\u001b[43m \u001b[49m\u001b[43mrmemory\u001b[49m\u001b[43m)\u001b[49m\n\u001b[1;32m    111\u001b[0m \u001b[38;5;28;01mreturn\u001b[39;00m res\n",
      "File \u001b[0;32m/home/patwuch/miniforge3/envs/qiime2-amplicon-2025.7/lib/python3.10/site-packages/rpy2/rinterface_lib/_rinterface_capi.py:720\u001b[0m, in \u001b[0;36m_parse\u001b[0;34m(cdata, num, rmemory)\u001b[0m\n\u001b[1;32m    713\u001b[0m \u001b[38;5;66;03m# TODO: design better handling of possible status:\u001b[39;00m\n\u001b[1;32m    714\u001b[0m \u001b[38;5;66;03m# PARSE_NULL,\u001b[39;00m\n\u001b[1;32m    715\u001b[0m \u001b[38;5;66;03m# PARSE_OK,\u001b[39;00m\n\u001b[1;32m    716\u001b[0m \u001b[38;5;66;03m# PARSE_INCOMPLETE,\u001b[39;00m\n\u001b[1;32m    717\u001b[0m \u001b[38;5;66;03m# PARSE_ERROR,\u001b[39;00m\n\u001b[1;32m    718\u001b[0m \u001b[38;5;66;03m# PARSE_EOF\u001b[39;00m\n\u001b[1;32m    719\u001b[0m \u001b[38;5;28;01mif\u001b[39;00m status[\u001b[38;5;241m0\u001b[39m] \u001b[38;5;241m!=\u001b[39m openrlib\u001b[38;5;241m.\u001b[39mrlib\u001b[38;5;241m.\u001b[39mPARSE_OK:\n\u001b[0;32m--> 720\u001b[0m     \u001b[38;5;28;01mraise\u001b[39;00m RParsingError(\u001b[38;5;124m'\u001b[39m\u001b[38;5;124mParsing status not OK\u001b[39m\u001b[38;5;124m'\u001b[39m,\n\u001b[1;32m    721\u001b[0m                         status\u001b[38;5;241m=\u001b[39mPARSING_STATUS(status[\u001b[38;5;241m0\u001b[39m]))\n\u001b[1;32m    722\u001b[0m \u001b[38;5;28;01mreturn\u001b[39;00m res\n",
      "\u001b[0;31mRParsingError\u001b[0m: Parsing status not OK - PARSING_STATUS.PARSE_ERROR"
     ]
    }
   ],
   "source": [
    "%%R\n",
    "library(phyloseq)\n",
    "library(ape)\n",
    "\n",
    "qiime phylogeny align-to-tree-mafft-fasttree \\\n",
    "  --i-sequences rep-seqs-dada2.qza \\\n",
    "  --o-alignment aligned-rep-seqs.qza \\\n",
    "  --o-masked-alignment masked-aligned-rep-seqs.qza \\\n",
    "  --o-tree unrooted-tree.qza \\\n",
    "  --o-rooted-tree rooted-tree.qza"
   ]
  },
  {
   "cell_type": "code",
   "execution_count": null,
   "id": "f91ae68b",
   "metadata": {},
   "outputs": [],
   "source": []
  }
 ],
 "metadata": {
  "kernelspec": {
   "display_name": "qiime2-amplicon-2025.7",
   "language": "python",
   "name": "python3"
  },
  "language_info": {
   "codemirror_mode": {
    "name": "ipython",
    "version": 3
   },
   "file_extension": ".py",
   "mimetype": "text/x-python",
   "name": "python",
   "nbconvert_exporter": "python",
   "pygments_lexer": "ipython3",
   "version": "3.10.14"
  }
 },
 "nbformat": 4,
 "nbformat_minor": 5
}
